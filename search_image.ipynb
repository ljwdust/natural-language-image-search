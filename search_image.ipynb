{
 "cells": [
  {
   "cell_type": "markdown",
   "metadata": {},
   "source": [
    "## The demo of searching images by CLIP"
   ]
  },
  {
   "cell_type": "code",
   "execution_count": null,
   "metadata": {},
   "outputs": [],
   "source": [
    "from util_search import CLIPSearch\n",
    "\n",
    "search = CLIPSearch('lite')\n",
    "search.load_model('ViT-L/14')"
   ]
  },
  {
   "cell_type": "code",
   "execution_count": null,
   "metadata": {},
   "outputs": [],
   "source": [
    "search.search_by_text('cars on city road', 3)"
   ]
  },
  {
   "cell_type": "code",
   "execution_count": null,
   "metadata": {},
   "outputs": [],
   "source": [
    "search.search_by_photo(r'.\\testdata\\bird-flower-kingfisher-plant.jpg', 5)"
   ]
  },
  {
   "cell_type": "code",
   "execution_count": null,
   "metadata": {},
   "outputs": [],
   "source": [
    "search.search_by_text2('bee on the flower', 'yellow', 0.6, 3)"
   ]
  },
  {
   "cell_type": "code",
   "execution_count": null,
   "metadata": {},
   "outputs": [],
   "source": [
    "search.search_by_text_and_photo(r'.\\testdata\\bird-flower-kingfisher-plant.jpg', 'yellow bird', 0.5, 5)"
   ]
  }
 ],
 "metadata": {
  "interpreter": {
   "hash": "87a9e5dedc4714062c3173de31bfad339ae6cd480ebe9ba2046d4d55516da5db"
  },
  "kernelspec": {
   "display_name": "Python 3.7.12 64-bit (conda)",
   "language": "python",
   "name": "python3"
  },
  "language_info": {
   "codemirror_mode": {
    "name": "ipython",
    "version": 3
   },
   "file_extension": ".py",
   "mimetype": "text/x-python",
   "name": "python",
   "nbconvert_exporter": "python",
   "pygments_lexer": "ipython3",
   "version": "3.7.12"
  },
  "orig_nbformat": 4
 },
 "nbformat": 4,
 "nbformat_minor": 2
}
